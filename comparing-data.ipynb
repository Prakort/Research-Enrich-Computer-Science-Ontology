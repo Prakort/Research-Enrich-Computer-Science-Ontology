{
 "cells": [
  {
   "cell_type": "code",
   "execution_count": 1,
   "metadata": {},
   "outputs": [],
   "source": [
    "from gensim.models import Word2Vec as w2v"
   ]
  },
  {
   "cell_type": "code",
   "execution_count": 2,
   "metadata": {},
   "outputs": [],
   "source": [
    "# load bigram model\n",
    "model = w2v.load('lowercase_bigram_model_epoch5')"
   ]
  },
  {
   "cell_type": "code",
   "execution_count": 3,
   "metadata": {},
   "outputs": [],
   "source": [
    "# get a topic and its result as dictionary\n",
    "file = open('CSO-clean.txt','r')\n",
    "topic_result=dict()\n",
    "\n",
    "for line in file:\n",
    "    w = line.split()\n",
    "    #topic predicate object\n",
    "    #w[0] = topic\n",
    "    #w[2] = object: result\n",
    "    if w[0] in topic_result:\n",
    "        topic_result[w[0]].append(w[2])\n",
    "    else:\n",
    "        topic_result[w[0]]=[w[2]]\n",
    "\n",
    "#topic_result"
   ]
  },
  {
   "cell_type": "code",
   "execution_count": 17,
   "metadata": {},
   "outputs": [],
   "source": [
    "# iterate over topic dictionary\n",
    "# search each topic in bigram model\n",
    "# add the results to a new Dictionary\n",
    "w2v_result=dict()\n",
    "for topic in topic_result:\n",
    "    word = topic.replace('_',' ')\n",
    "    result=[]\n",
    "    try:\n",
    "        result = model.wv.most_similar(positive=[word],topn=10)\n",
    "    except:\n",
    "        result=[] # no result found\n",
    "    w2v_result[topic]=result"
   ]
  },
  {
   "cell_type": "code",
   "execution_count": 18,
   "metadata": {},
   "outputs": [],
   "source": [
    "# compare two Dicts where they have the same key but different values\n",
    "# write result into a new file\n",
    "import itertools\n",
    "compare=open('csoVSw2v_v2.txt','a+')\n",
    "for topic in topic_result:\n",
    "    # write header\n",
    "    compare.write('CSO: '+topic+'\\t\\t\\t'+'WORD2VEC: '+topic+'\\n\\n')\n",
    "    # get value of the topic from CSO dict\n",
    "    cso=topic_result[topic]\n",
    "    # get value of the topic from word2vec dict\n",
    "    w2v=w2v_result[topic]\n",
    "    # word2vec result format is a turple \n",
    "    # we will change it to a list easy to iterate\n",
    "    wordlist=[]\n",
    "    for re in w2v:\n",
    "        word=re[0]\n",
    "        wordlist.append(word)\n",
    "    # use itertools.zip to print out both data as 2 column\n",
    "    for a, b in itertools.zip_longest(cso, wordlist, fillvalue=''):\n",
    "        # since our data is not the same format\n",
    "        # removing and add '_' & ' ' to matched\n",
    "        tempA = a.replace('_',' ')\n",
    "        tempB = b.replace(' ','_')\n",
    "        if tempA in wordlist:\n",
    "            a+=' Matched found'\n",
    "        if tempB in cso:\n",
    "            b+=' Matched found'\n",
    "        compare.write(\"{0:50s}{1:25s}\\n\".format(a, b))\n",
    "    compare.write('\\n\\n')"
   ]
  },
  {
   "cell_type": "code",
   "execution_count": 20,
   "metadata": {},
   "outputs": [],
   "source": [
    "#w2v_result"
   ]
  },
  {
   "cell_type": "code",
   "execution_count": null,
   "metadata": {},
   "outputs": [],
   "source": []
  }
 ],
 "metadata": {
  "kernelspec": {
   "display_name": "Python 2",
   "language": "python",
   "name": "python2"
  },
  "language_info": {
   "codemirror_mode": {
    "name": "ipython",
    "version": 2
   },
   "file_extension": ".py",
   "mimetype": "text/x-python",
   "name": "python",
   "nbconvert_exporter": "python",
   "pygments_lexer": "ipython2",
   "version": "2.7.10"
  }
 },
 "nbformat": 4,
 "nbformat_minor": 2
}
